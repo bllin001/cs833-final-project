{
 "cells": [
  {
   "cell_type": "code",
   "execution_count": 11,
   "metadata": {},
   "outputs": [
    {
     "data": {
      "text/plain": [
       "<torch._C.Generator at 0x15cde5bb0>"
      ]
     },
     "execution_count": 11,
     "metadata": {},
     "output_type": "execute_result"
    }
   ],
   "source": [
    "import pandas as pd\n",
    "import numpy as np\n",
    "from datasets import (load_metric, Dataset, DatasetDict)\n",
    "import torch\n",
    "import evaluate\n",
    "from transformers import AutoTokenizer, AutoModelForSequenceClassification, TrainingArguments, Trainer, DataCollatorForLanguageModeling\n",
    "from tqdm.auto import tqdm\n",
    "\n",
    "torch.manual_seed(0)"
   ]
  },
  {
   "cell_type": "code",
   "execution_count": 19,
   "metadata": {},
   "outputs": [],
   "source": [
    "model = 'BERT'\n",
    "model_name = \"google-bert/bert-base-uncased\"\n",
    "out_dir = f'../model/{model}'"
   ]
  },
  {
   "cell_type": "code",
   "execution_count": 3,
   "metadata": {},
   "outputs": [],
   "source": [
    "train = pd.read_csv('../data/train.csv')\n",
    "test = pd.read_csv('../data/test.csv')\n",
    "\n",
    "train['title'] = train['title'].astype(str)\n",
    "test['title'] = test['title'].astype(str)\n",
    "test['label'] = test['label'].astype(str)\n",
    "train['label'] = train['label'].astype(str)"
   ]
  },
  {
   "cell_type": "code",
   "execution_count": 4,
   "metadata": {},
   "outputs": [],
   "source": [
    "cats = train['label'].unique()\n",
    "n_labels = len(cats)\n",
    "label2id = {}\n",
    "id2label = {}\n",
    "for i in range(len(cats)):\n",
    "  label2id[cats[i]] = i\n",
    "  id2label[i] = cats[i]\n",
    "\n",
    "train = train.rename(columns={'title': 'text', 'label': 'label'})\n",
    "test = test.rename(columns={'title': 'text', 'label': 'label'})\n",
    "train.reset_index(drop=True, inplace=True)\n",
    "test.reset_index(drop=True, inplace=True)\n",
    "\n",
    "train['label'] = train['label'].map(label2id)\n",
    "test['label'] = test['label'].map(label2id)\n",
    "\n",
    "train_dataset = Dataset.from_dict(train)\n",
    "test_dataset = Dataset.from_dict(test)\n",
    "my_dataset_dict = DatasetDict({\"train\":train_dataset,\"test\":test_dataset})"
   ]
  },
  {
   "cell_type": "code",
   "execution_count": 5,
   "metadata": {},
   "outputs": [],
   "source": [
    "torch.cuda.empty_cache()"
   ]
  },
  {
   "cell_type": "code",
   "execution_count": 6,
   "metadata": {},
   "outputs": [
    {
     "data": {
      "application/vnd.jupyter.widget-view+json": {
       "model_id": "83fe82bf14c44e44a7c6c22d3420db1b",
       "version_major": 2,
       "version_minor": 0
      },
      "text/plain": [
       "Map:   0%|          | 0/1780 [00:00<?, ? examples/s]"
      ]
     },
     "metadata": {},
     "output_type": "display_data"
    },
    {
     "data": {
      "application/vnd.jupyter.widget-view+json": {
       "model_id": "5d05baf535904eecb3a3d28b2326d6f6",
       "version_major": 2,
       "version_minor": 0
      },
      "text/plain": [
       "Map:   0%|          | 0/445 [00:00<?, ? examples/s]"
      ]
     },
     "metadata": {},
     "output_type": "display_data"
    }
   ],
   "source": [
    "# # Tokenize the dataset (FOR BERT)\n",
    "tokenizer = AutoTokenizer.from_pretrained(model_name, id2label = id2label, label2id = label2id, max_len = 512)\n",
    "\n",
    "def tokenize_function(examples):\n",
    "    return tokenizer(examples[\"text\"], padding=\"max_length\", truncation=True, max_length=tokenizer.model_max_length)\n",
    "\n",
    "tokenized_datasets = my_dataset_dict.map(tokenize_function, batched=True)\n",
    "\n",
    "small_train_dataset = tokenized_datasets[\"train\"].shuffle(seed=0)\n",
    "small_eval_dataset = tokenized_datasets[\"test\"].shuffle(seed=0)"
   ]
  },
  {
   "cell_type": "code",
   "execution_count": 7,
   "metadata": {},
   "outputs": [
    {
     "name": "stderr",
     "output_type": "stream",
     "text": [
      "Some weights of BertForSequenceClassification were not initialized from the model checkpoint at google-bert/bert-base-uncased and are newly initialized: ['classifier.bias', 'classifier.weight']\n",
      "You should probably TRAIN this model on a down-stream task to be able to use it for predictions and inference.\n"
     ]
    }
   ],
   "source": [
    "# Define the model\n",
    "model = AutoModelForSequenceClassification.from_pretrained(model_name, id2label = id2label, label2id = label2id,\n",
    "                                                           num_labels=n_labels, ignore_mismatched_sizes=True)"
   ]
  },
  {
   "cell_type": "code",
   "execution_count": 8,
   "metadata": {},
   "outputs": [],
   "source": [
    "# Define the metrics\n",
    "\n",
    "def compute_metrics(eval_pred):\n",
    "    logits, labels = eval_pred\n",
    "    predictions = np.argmax(logits, axis=-1)\n",
    "    accuracy_metric = evaluate.load(\"accuracy\")\n",
    "    accuracy = accuracy_metric.compute(predictions=predictions, references=labels)[\"accuracy\"]\n",
    "\n",
    "    if n_labels == 2:\n",
    "        precision_metric = evaluate.load(\"precision\")\n",
    "        recall_metric = evaluate.load(\"recall\")\n",
    "        f1_metric = evaluate.load(\"f1\")\n",
    "\n",
    "        precision = precision_metric.compute(predictions=predictions, references=labels, average='macro')[\"precision\"]\n",
    "        recall = recall_metric.compute(predictions=predictions, references=labels, average='macro')[\"recall\"]\n",
    "        f1 = f1_metric.compute(predictions=predictions, references=labels, average='macro')[\"f1\"]\n",
    "\n",
    "        return {\"accuracy\": accuracy, \"precision\": precision, \"recall\": recall, \"f1\": f1}\n",
    "    elif n_labels > 2:\n",
    "        return {\"accuracy\": accuracy}"
   ]
  },
  {
   "cell_type": "code",
   "execution_count": 9,
   "metadata": {},
   "outputs": [],
   "source": [
    "n_epochs = 20\n",
    "\n",
    "# training_args = TrainingArguments(output_dir=out_dir, evaluation_strategy=\"epoch\",\n",
    "#                                   save_strategy = \"epoch\", save_total_limit = 2,\n",
    "#                                   logging_strategy = \"epoch\",\n",
    "#                                   report_to=\"wandb\", run_name=model,\n",
    "#                                   seed = 0, num_train_epochs = n_epochs,\n",
    "#                                   auto_find_batch_size = True)\n",
    "\n",
    "\n",
    "\n",
    "training_args = TrainingArguments(output_dir=out_dir, evaluation_strategy=\"epoch\",\n",
    "                                  save_strategy = \"epoch\", save_total_limit = 2,\n",
    "                                  logging_strategy = \"epoch\",\n",
    "                                  seed = 0, num_train_epochs = n_epochs,\n",
    "                                  auto_find_batch_size = True)\n",
    "\n",
    "trainer = Trainer(\n",
    "    model=model,\n",
    "    args=training_args,\n",
    "    train_dataset=small_train_dataset,\n",
    "    eval_dataset=small_eval_dataset,\n",
    "    compute_metrics=compute_metrics,\n",
    ")"
   ]
  },
  {
   "cell_type": "code",
   "execution_count": 10,
   "metadata": {},
   "outputs": [
    {
     "name": "stdout",
     "output_type": "stream",
     "text": [
      "Device: mps\n"
     ]
    }
   ],
   "source": [
    "# for batch in trainer.get_train_dataloader():\n",
    "#     break\n",
    "\n",
    "# outputs = trainer.model.cpu()(**batch)\n",
    "\n",
    "# Ensure the model is moved to the GPU\n",
    "trainer.model.to('mps')\n",
    "\n",
    "for batch in trainer.get_train_dataloader():\n",
    "    # Move each tensor in the batch to the GPU\n",
    "    batch = {k: v.to('mps') for k, v in batch.items()}\n",
    "    break\n",
    "\n",
    "# Compute the outputs using the model and batch on GPU\n",
    "outputs = trainer.model(**batch)\n",
    "\n",
    "device = torch.device(\"mps\")\n",
    "print(f\"Device: {device}\")\n",
    "batch = {k: v.to(device) for k, v in batch.items()}\n",
    "\n",
    "outputs = trainer.model.to(device)(**batch)\n",
    "\n",
    "loss = outputs.loss\n",
    "loss.backward()\n",
    "\n",
    "trainer.create_optimizer()\n",
    "trainer.optimizer.step()"
   ]
  },
  {
   "cell_type": "code",
   "execution_count": 12,
   "metadata": {},
   "outputs": [
    {
     "data": {
      "application/vnd.jupyter.widget-view+json": {
       "model_id": "9d4d4c3e8cf743e2828de65a64e799ca",
       "version_major": 2,
       "version_minor": 0
      },
      "text/plain": [
       "Training (Epoch 1/20):   0%|          | 0/223 [00:00<?, ?it/s]"
      ]
     },
     "metadata": {},
     "output_type": "display_data"
    },
    {
     "data": {
      "application/vnd.jupyter.widget-view+json": {
       "model_id": "cb14ead3c9ba4d7ba80fcf901abf4482",
       "version_major": 2,
       "version_minor": 0
      },
      "text/plain": [
       "Evaluating (Epoch 1/20):   0%|          | 0/56 [00:00<?, ?it/s]"
      ]
     },
     "metadata": {},
     "output_type": "display_data"
    },
    {
     "data": {
      "application/vnd.jupyter.widget-view+json": {
       "model_id": "cd6ca0f889384b50afd2c31da2dbde04",
       "version_major": 2,
       "version_minor": 0
      },
      "text/plain": [
       "Downloading builder script:   0%|          | 0.00/4.20k [00:00<?, ?B/s]"
      ]
     },
     "metadata": {},
     "output_type": "display_data"
    },
    {
     "data": {
      "application/vnd.jupyter.widget-view+json": {
       "model_id": "b55e59b384384765a455f27564539c24",
       "version_major": 2,
       "version_minor": 0
      },
      "text/plain": [
       "Downloading builder script:   0%|          | 0.00/7.55k [00:00<?, ?B/s]"
      ]
     },
     "metadata": {},
     "output_type": "display_data"
    },
    {
     "data": {
      "application/vnd.jupyter.widget-view+json": {
       "model_id": "8674007a5a254f50888fc8ec1674da19",
       "version_major": 2,
       "version_minor": 0
      },
      "text/plain": [
       "Downloading builder script:   0%|          | 0.00/7.36k [00:00<?, ?B/s]"
      ]
     },
     "metadata": {},
     "output_type": "display_data"
    },
    {
     "data": {
      "application/vnd.jupyter.widget-view+json": {
       "model_id": "29b768e721fd480c915d7838c29b8368",
       "version_major": 2,
       "version_minor": 0
      },
      "text/plain": [
       "Downloading builder script:   0%|          | 0.00/6.77k [00:00<?, ?B/s]"
      ]
     },
     "metadata": {},
     "output_type": "display_data"
    },
    {
     "name": "stdout",
     "output_type": "stream",
     "text": [
      "Epoch 1/20 - Training Loss: 0.6591, Evaluation Loss: 0.6689, Metrics: {'accuracy': 0.6224719101123596, 'precision': 0.5270711024135681, 'recall': 0.5017877913238271, 'f1': 0.3999229435561549}\n"
     ]
    },
    {
     "data": {
      "application/vnd.jupyter.widget-view+json": {
       "model_id": "6ec40861f93b464bbf318a52542c791d",
       "version_major": 2,
       "version_minor": 0
      },
      "text/plain": [
       "Training (Epoch 2/20):   0%|          | 0/223 [00:00<?, ?it/s]"
      ]
     },
     "metadata": {},
     "output_type": "display_data"
    },
    {
     "data": {
      "application/vnd.jupyter.widget-view+json": {
       "model_id": "5772c0eb16b3452fb679b72b08fc78a4",
       "version_major": 2,
       "version_minor": 0
      },
      "text/plain": [
       "Evaluating (Epoch 2/20):   0%|          | 0/56 [00:00<?, ?it/s]"
      ]
     },
     "metadata": {},
     "output_type": "display_data"
    },
    {
     "data": {
      "application/vnd.jupyter.widget-view+json": {
       "model_id": "8155afb386024ee9973ae290bee0bfd6",
       "version_major": 2,
       "version_minor": 0
      },
      "text/plain": [
       "Downloading builder script:   0%|          | 0.00/4.20k [00:00<?, ?B/s]"
      ]
     },
     "metadata": {},
     "output_type": "display_data"
    },
    {
     "data": {
      "application/vnd.jupyter.widget-view+json": {
       "model_id": "6cb906bef4c746d5bfa441f064073795",
       "version_major": 2,
       "version_minor": 0
      },
      "text/plain": [
       "Downloading builder script:   0%|          | 0.00/7.55k [00:00<?, ?B/s]"
      ]
     },
     "metadata": {},
     "output_type": "display_data"
    },
    {
     "data": {
      "application/vnd.jupyter.widget-view+json": {
       "model_id": "8bbd1580e6d24760b17e5f37e9e07733",
       "version_major": 2,
       "version_minor": 0
      },
      "text/plain": [
       "Downloading builder script:   0%|          | 0.00/7.36k [00:00<?, ?B/s]"
      ]
     },
     "metadata": {},
     "output_type": "display_data"
    },
    {
     "data": {
      "application/vnd.jupyter.widget-view+json": {
       "model_id": "8fcc419864b44e4c8eba1197d3629efc",
       "version_major": 2,
       "version_minor": 0
      },
      "text/plain": [
       "Downloading builder script:   0%|          | 0.00/6.77k [00:00<?, ?B/s]"
      ]
     },
     "metadata": {},
     "output_type": "display_data"
    },
    {
     "name": "stdout",
     "output_type": "stream",
     "text": [
      "Epoch 2/20 - Training Loss: 0.6106, Evaluation Loss: 0.6762, Metrics: {'accuracy': 0.6337078651685393, 'precision': 0.5911943064095005, 'recall': 0.5466441218282858, 'f1': 0.5208067702105451}\n"
     ]
    },
    {
     "data": {
      "application/vnd.jupyter.widget-view+json": {
       "model_id": "5d1d9507edfa45a6921469b67239fbbb",
       "version_major": 2,
       "version_minor": 0
      },
      "text/plain": [
       "Training (Epoch 3/20):   0%|          | 0/223 [00:00<?, ?it/s]"
      ]
     },
     "metadata": {},
     "output_type": "display_data"
    },
    {
     "data": {
      "application/vnd.jupyter.widget-view+json": {
       "model_id": "4e8ab2ee50784f219d65e1068e07d3ec",
       "version_major": 2,
       "version_minor": 0
      },
      "text/plain": [
       "Evaluating (Epoch 3/20):   0%|          | 0/56 [00:00<?, ?it/s]"
      ]
     },
     "metadata": {},
     "output_type": "display_data"
    },
    {
     "name": "stdout",
     "output_type": "stream",
     "text": [
      "Epoch 3/20 - Training Loss: 0.4798, Evaluation Loss: 0.7473, Metrics: {'accuracy': 0.6, 'precision': 0.5393258426966292, 'recall': 0.5268384095119114, 'f1': 0.5119652011041009}\n"
     ]
    },
    {
     "data": {
      "application/vnd.jupyter.widget-view+json": {
       "model_id": "78ebea73b72e41749b31b8400535da7f",
       "version_major": 2,
       "version_minor": 0
      },
      "text/plain": [
       "Training (Epoch 4/20):   0%|          | 0/223 [00:00<?, ?it/s]"
      ]
     },
     "metadata": {},
     "output_type": "display_data"
    },
    {
     "data": {
      "application/vnd.jupyter.widget-view+json": {
       "model_id": "5ec82cc2c00e4bdd95fbd96021802d99",
       "version_major": 2,
       "version_minor": 0
      },
      "text/plain": [
       "Evaluating (Epoch 4/20):   0%|          | 0/56 [00:00<?, ?it/s]"
      ]
     },
     "metadata": {},
     "output_type": "display_data"
    },
    {
     "name": "stdout",
     "output_type": "stream",
     "text": [
      "Epoch 4/20 - Training Loss: 0.3496, Evaluation Loss: 1.0048, Metrics: {'accuracy': 0.6202247191011236, 'precision': 0.5582231318219983, 'recall': 0.5238982466721234, 'f1': 0.48179155900086135}\n"
     ]
    },
    {
     "data": {
      "application/vnd.jupyter.widget-view+json": {
       "model_id": "60656d5aa42f404dbf3648cd22f01be8",
       "version_major": 2,
       "version_minor": 0
      },
      "text/plain": [
       "Training (Epoch 5/20):   0%|          | 0/223 [00:00<?, ?it/s]"
      ]
     },
     "metadata": {},
     "output_type": "display_data"
    },
    {
     "data": {
      "application/vnd.jupyter.widget-view+json": {
       "model_id": "e5b6cfcd084e4ac489142312f8b319ea",
       "version_major": 2,
       "version_minor": 0
      },
      "text/plain": [
       "Evaluating (Epoch 5/20):   0%|          | 0/56 [00:00<?, ?it/s]"
      ]
     },
     "metadata": {},
     "output_type": "display_data"
    },
    {
     "name": "stdout",
     "output_type": "stream",
     "text": [
      "Epoch 5/20 - Training Loss: 0.2160, Evaluation Loss: 1.1533, Metrics: {'accuracy': 0.6202247191011236, 'precision': 0.548995983935743, 'recall': 0.5131391892474044, 'f1': 0.4491323679140938}\n"
     ]
    },
    {
     "data": {
      "application/vnd.jupyter.widget-view+json": {
       "model_id": "b238e10d259044a6b8a566fa6fac8ffc",
       "version_major": 2,
       "version_minor": 0
      },
      "text/plain": [
       "Training (Epoch 6/20):   0%|          | 0/223 [00:00<?, ?it/s]"
      ]
     },
     "metadata": {},
     "output_type": "display_data"
    },
    {
     "data": {
      "application/vnd.jupyter.widget-view+json": {
       "model_id": "9f6fe44ad4764e9e828345d926248933",
       "version_major": 2,
       "version_minor": 0
      },
      "text/plain": [
       "Evaluating (Epoch 6/20):   0%|          | 0/56 [00:00<?, ?it/s]"
      ]
     },
     "metadata": {},
     "output_type": "display_data"
    },
    {
     "name": "stdout",
     "output_type": "stream",
     "text": [
      "Epoch 6/20 - Training Loss: 0.1881, Evaluation Loss: 1.3462, Metrics: {'accuracy': 0.6157303370786517, 'precision': 0.5628846278421973, 'recall': 0.5418192392194029, 'f1': 0.5278324160311738}\n"
     ]
    },
    {
     "data": {
      "application/vnd.jupyter.widget-view+json": {
       "model_id": "7cfe16b09aed401ea64bbdc6409e6860",
       "version_major": 2,
       "version_minor": 0
      },
      "text/plain": [
       "Training (Epoch 7/20):   0%|          | 0/223 [00:00<?, ?it/s]"
      ]
     },
     "metadata": {},
     "output_type": "display_data"
    },
    {
     "data": {
      "application/vnd.jupyter.widget-view+json": {
       "model_id": "fd436932d76c48778444bcf9badb6ed4",
       "version_major": 2,
       "version_minor": 0
      },
      "text/plain": [
       "Evaluating (Epoch 7/20):   0%|          | 0/56 [00:00<?, ?it/s]"
      ]
     },
     "metadata": {},
     "output_type": "display_data"
    },
    {
     "name": "stdout",
     "output_type": "stream",
     "text": [
      "Epoch 7/20 - Training Loss: 0.1509, Evaluation Loss: 1.2671, Metrics: {'accuracy': 0.5842696629213483, 'precision': 0.5381875985804416, 'recall': 0.5333756946538577, 'f1': 0.5309784930921522}\n"
     ]
    },
    {
     "data": {
      "application/vnd.jupyter.widget-view+json": {
       "model_id": "26d8054e429b47eebfb49beeb22b3254",
       "version_major": 2,
       "version_minor": 0
      },
      "text/plain": [
       "Training (Epoch 8/20):   0%|          | 0/223 [00:00<?, ?it/s]"
      ]
     },
     "metadata": {},
     "output_type": "display_data"
    },
    {
     "data": {
      "application/vnd.jupyter.widget-view+json": {
       "model_id": "91d5919a77d5499aadec47627777e01a",
       "version_major": 2,
       "version_minor": 0
      },
      "text/plain": [
       "Evaluating (Epoch 8/20):   0%|          | 0/56 [00:00<?, ?it/s]"
      ]
     },
     "metadata": {},
     "output_type": "display_data"
    },
    {
     "name": "stdout",
     "output_type": "stream",
     "text": [
      "Epoch 8/20 - Training Loss: 0.1183, Evaluation Loss: 1.9313, Metrics: {'accuracy': 0.5617977528089888, 'precision': 0.5301116782271081, 'recall': 0.5297354930426916, 'f1': 0.5298506249695236}\n"
     ]
    },
    {
     "data": {
      "application/vnd.jupyter.widget-view+json": {
       "model_id": "239b10bb2df3417c876cd142ebbad65a",
       "version_major": 2,
       "version_minor": 0
      },
      "text/plain": [
       "Training (Epoch 9/20):   0%|          | 0/223 [00:00<?, ?it/s]"
      ]
     },
     "metadata": {},
     "output_type": "display_data"
    },
    {
     "data": {
      "application/vnd.jupyter.widget-view+json": {
       "model_id": "6e7377aa244e42149dba487af76041fc",
       "version_major": 2,
       "version_minor": 0
      },
      "text/plain": [
       "Evaluating (Epoch 9/20):   0%|          | 0/56 [00:00<?, ?it/s]"
      ]
     },
     "metadata": {},
     "output_type": "display_data"
    },
    {
     "name": "stdout",
     "output_type": "stream",
     "text": [
      "Epoch 9/20 - Training Loss: 0.0859, Evaluation Loss: 1.4503, Metrics: {'accuracy': 0.5752808988764045, 'precision': 0.5214326439641321, 'recall': 0.5178132942747599, 'f1': 0.512222705524141}\n"
     ]
    },
    {
     "data": {
      "application/vnd.jupyter.widget-view+json": {
       "model_id": "70786d11cc5e41d58a55ae63bb199a3f",
       "version_major": 2,
       "version_minor": 0
      },
      "text/plain": [
       "Training (Epoch 10/20):   0%|          | 0/223 [00:00<?, ?it/s]"
      ]
     },
     "metadata": {},
     "output_type": "display_data"
    },
    {
     "data": {
      "application/vnd.jupyter.widget-view+json": {
       "model_id": "3cff25ffaa1d4c2d9886b6f31ef5de49",
       "version_major": 2,
       "version_minor": 0
      },
      "text/plain": [
       "Evaluating (Epoch 10/20):   0%|          | 0/56 [00:00<?, ?it/s]"
      ]
     },
     "metadata": {},
     "output_type": "display_data"
    },
    {
     "name": "stdout",
     "output_type": "stream",
     "text": [
      "Epoch 10/20 - Training Loss: 0.0993, Evaluation Loss: 1.3842, Metrics: {'accuracy': 0.5820224719101124, 'precision': 0.5542906991771852, 'recall': 0.5542906991771852, 'f1': 0.5542906991771852}\n"
     ]
    },
    {
     "data": {
      "application/vnd.jupyter.widget-view+json": {
       "model_id": "de1897dfed5647f0838e7494223c76a8",
       "version_major": 2,
       "version_minor": 0
      },
      "text/plain": [
       "Training (Epoch 11/20):   0%|          | 0/223 [00:00<?, ?it/s]"
      ]
     },
     "metadata": {},
     "output_type": "display_data"
    },
    {
     "data": {
      "application/vnd.jupyter.widget-view+json": {
       "model_id": "c10a8894b21c4c8cbfa2cf5d623191aa",
       "version_major": 2,
       "version_minor": 0
      },
      "text/plain": [
       "Evaluating (Epoch 11/20):   0%|          | 0/56 [00:00<?, ?it/s]"
      ]
     },
     "metadata": {},
     "output_type": "display_data"
    },
    {
     "name": "stdout",
     "output_type": "stream",
     "text": [
      "Epoch 11/20 - Training Loss: 0.0663, Evaluation Loss: 1.7923, Metrics: {'accuracy': 0.6022471910112359, 'precision': 0.5641316149742718, 'recall': 0.5585232412872098, 'f1': 0.5585540142917191}\n"
     ]
    },
    {
     "data": {
      "application/vnd.jupyter.widget-view+json": {
       "model_id": "cc527cfeb05c4354bdf790b3bf12a1eb",
       "version_major": 2,
       "version_minor": 0
      },
      "text/plain": [
       "Training (Epoch 12/20):   0%|          | 0/223 [00:00<?, ?it/s]"
      ]
     },
     "metadata": {},
     "output_type": "display_data"
    },
    {
     "data": {
      "application/vnd.jupyter.widget-view+json": {
       "model_id": "4235fc4c0be243e7b8d8f81462a4af6f",
       "version_major": 2,
       "version_minor": 0
      },
      "text/plain": [
       "Evaluating (Epoch 12/20):   0%|          | 0/56 [00:00<?, ?it/s]"
      ]
     },
     "metadata": {},
     "output_type": "display_data"
    },
    {
     "name": "stdout",
     "output_type": "stream",
     "text": [
      "Epoch 12/20 - Training Loss: 0.0466, Evaluation Loss: 2.3052, Metrics: {'accuracy': 0.5910112359550562, 'precision': 0.5541379310344827, 'recall': 0.5507258863567829, 'f1': 0.5508938869665513}\n"
     ]
    },
    {
     "data": {
      "application/vnd.jupyter.widget-view+json": {
       "model_id": "96144f5e73a94088bc0fd21025d8cf9e",
       "version_major": 2,
       "version_minor": 0
      },
      "text/plain": [
       "Training (Epoch 13/20):   0%|          | 0/223 [00:00<?, ?it/s]"
      ]
     },
     "metadata": {},
     "output_type": "display_data"
    },
    {
     "data": {
      "application/vnd.jupyter.widget-view+json": {
       "model_id": "84111bd3a02b4fd19677e3d2f42a822e",
       "version_major": 2,
       "version_minor": 0
      },
      "text/plain": [
       "Evaluating (Epoch 13/20):   0%|          | 0/56 [00:00<?, ?it/s]"
      ]
     },
     "metadata": {},
     "output_type": "display_data"
    },
    {
     "name": "stdout",
     "output_type": "stream",
     "text": [
      "Epoch 13/20 - Training Loss: 0.0446, Evaluation Loss: 2.4835, Metrics: {'accuracy': 0.5820224719101124, 'precision': 0.5496063340410474, 'recall': 0.5483134450523414, 'f1': 0.5486520088993587}\n"
     ]
    },
    {
     "data": {
      "application/vnd.jupyter.widget-view+json": {
       "model_id": "cb26ef60e8f8446fa6448d237055263e",
       "version_major": 2,
       "version_minor": 0
      },
      "text/plain": [
       "Training (Epoch 14/20):   0%|          | 0/223 [00:00<?, ?it/s]"
      ]
     },
     "metadata": {},
     "output_type": "display_data"
    },
    {
     "data": {
      "application/vnd.jupyter.widget-view+json": {
       "model_id": "57c5c762f41b43629476672e1d9c806a",
       "version_major": 2,
       "version_minor": 0
      },
      "text/plain": [
       "Evaluating (Epoch 14/20):   0%|          | 0/56 [00:00<?, ?it/s]"
      ]
     },
     "metadata": {},
     "output_type": "display_data"
    },
    {
     "name": "stdout",
     "output_type": "stream",
     "text": [
      "Epoch 14/20 - Training Loss: 0.0484, Evaluation Loss: 2.5632, Metrics: {'accuracy': 0.5640449438202247, 'precision': 0.5340909090909091, 'recall': 0.5339249558437082, 'f1': 0.5339961998531761}\n"
     ]
    },
    {
     "data": {
      "application/vnd.jupyter.widget-view+json": {
       "model_id": "d647d50a0c6e4541976ee0e072ecf676",
       "version_major": 2,
       "version_minor": 0
      },
      "text/plain": [
       "Training (Epoch 15/20):   0%|          | 0/223 [00:00<?, ?it/s]"
      ]
     },
     "metadata": {},
     "output_type": "display_data"
    },
    {
     "data": {
      "application/vnd.jupyter.widget-view+json": {
       "model_id": "7517a5d92e2d4690a9068ae75fe3231f",
       "version_major": 2,
       "version_minor": 0
      },
      "text/plain": [
       "Evaluating (Epoch 15/20):   0%|          | 0/56 [00:00<?, ?it/s]"
      ]
     },
     "metadata": {},
     "output_type": "display_data"
    },
    {
     "name": "stdout",
     "output_type": "stream",
     "text": [
      "Epoch 15/20 - Training Loss: 0.1004, Evaluation Loss: 2.2174, Metrics: {'accuracy': 0.5775280898876405, 'precision': 0.548538961038961, 'recall': 0.5483026752250894, 'f1': 0.5484086885175109}\n"
     ]
    },
    {
     "data": {
      "application/vnd.jupyter.widget-view+json": {
       "model_id": "b0ae751e12074f77a8dcf6848096d6c9",
       "version_major": 2,
       "version_minor": 0
      },
      "text/plain": [
       "Training (Epoch 16/20):   0%|          | 0/223 [00:00<?, ?it/s]"
      ]
     },
     "metadata": {},
     "output_type": "display_data"
    },
    {
     "data": {
      "application/vnd.jupyter.widget-view+json": {
       "model_id": "29be6f9ceda44af1b871a69813bf33c4",
       "version_major": 2,
       "version_minor": 0
      },
      "text/plain": [
       "Evaluating (Epoch 16/20):   0%|          | 0/56 [00:00<?, ?it/s]"
      ]
     },
     "metadata": {},
     "output_type": "display_data"
    },
    {
     "name": "stdout",
     "output_type": "stream",
     "text": [
      "Epoch 16/20 - Training Loss: 0.0926, Evaluation Loss: 1.9289, Metrics: {'accuracy': 0.6134831460674157, 'precision': 0.5734908136482939, 'recall': 0.5639296945676991, 'f1': 0.563187691183856}\n"
     ]
    },
    {
     "data": {
      "application/vnd.jupyter.widget-view+json": {
       "model_id": "97becbeec61e41e88be95e54cb9c4a45",
       "version_major": 2,
       "version_minor": 0
      },
      "text/plain": [
       "Training (Epoch 17/20):   0%|          | 0/223 [00:00<?, ?it/s]"
      ]
     },
     "metadata": {},
     "output_type": "display_data"
    },
    {
     "data": {
      "application/vnd.jupyter.widget-view+json": {
       "model_id": "89424dd72da44bdaaa46aa3451f84f9c",
       "version_major": 2,
       "version_minor": 0
      },
      "text/plain": [
       "Evaluating (Epoch 17/20):   0%|          | 0/56 [00:00<?, ?it/s]"
      ]
     },
     "metadata": {},
     "output_type": "display_data"
    },
    {
     "name": "stdout",
     "output_type": "stream",
     "text": [
      "Epoch 17/20 - Training Loss: 0.0720, Evaluation Loss: 2.0983, Metrics: {'accuracy': 0.5842696629213483, 'precision': 0.5488135593220339, 'recall': 0.5465256537285141, 'f1': 0.5467708281720537}\n"
     ]
    },
    {
     "data": {
      "application/vnd.jupyter.widget-view+json": {
       "model_id": "8644cf40e9454ab5b08958e5b9683010",
       "version_major": 2,
       "version_minor": 0
      },
      "text/plain": [
       "Training (Epoch 18/20):   0%|          | 0/223 [00:00<?, ?it/s]"
      ]
     },
     "metadata": {},
     "output_type": "display_data"
    },
    {
     "data": {
      "application/vnd.jupyter.widget-view+json": {
       "model_id": "f10f50e2f0c04878b240912d15971e6c",
       "version_major": 2,
       "version_minor": 0
      },
      "text/plain": [
       "Evaluating (Epoch 18/20):   0%|          | 0/56 [00:00<?, ?it/s]"
      ]
     },
     "metadata": {},
     "output_type": "display_data"
    },
    {
     "name": "stdout",
     "output_type": "stream",
     "text": [
      "Epoch 18/20 - Training Loss: 0.0627, Evaluation Loss: 2.2048, Metrics: {'accuracy': 0.5438202247191011, 'precision': 0.5492350655658087, 'recall': 0.5524059794080902, 'f1': 0.5388930574909779}\n"
     ]
    },
    {
     "data": {
      "application/vnd.jupyter.widget-view+json": {
       "model_id": "76437fc8c2d54dd9804d2d90779a58dc",
       "version_major": 2,
       "version_minor": 0
      },
      "text/plain": [
       "Training (Epoch 19/20):   0%|          | 0/223 [00:00<?, ?it/s]"
      ]
     },
     "metadata": {},
     "output_type": "display_data"
    },
    {
     "data": {
      "application/vnd.jupyter.widget-view+json": {
       "model_id": "4f624c8bdaf4406e83293bc5abb824ff",
       "version_major": 2,
       "version_minor": 0
      },
      "text/plain": [
       "Evaluating (Epoch 19/20):   0%|          | 0/56 [00:00<?, ?it/s]"
      ]
     },
     "metadata": {},
     "output_type": "display_data"
    },
    {
     "name": "stdout",
     "output_type": "stream",
     "text": [
      "Epoch 19/20 - Training Loss: 0.0911, Evaluation Loss: 2.1730, Metrics: {'accuracy': 0.5550561797752809, 'precision': 0.5553367268613906, 'recall': 0.5590078835135484, 'f1': 0.5481538461538462}\n"
     ]
    },
    {
     "data": {
      "application/vnd.jupyter.widget-view+json": {
       "model_id": "b0bdeb98523d44eabbeddf39fcf4c12e",
       "version_major": 2,
       "version_minor": 0
      },
      "text/plain": [
       "Training (Epoch 20/20):   0%|          | 0/223 [00:00<?, ?it/s]"
      ]
     },
     "metadata": {},
     "output_type": "display_data"
    },
    {
     "data": {
      "application/vnd.jupyter.widget-view+json": {
       "model_id": "b8bbf64498294dccaa9aa3eaa21d8e30",
       "version_major": 2,
       "version_minor": 0
      },
      "text/plain": [
       "Evaluating (Epoch 20/20):   0%|          | 0/56 [00:00<?, ?it/s]"
      ]
     },
     "metadata": {},
     "output_type": "display_data"
    },
    {
     "name": "stdout",
     "output_type": "stream",
     "text": [
      "Epoch 20/20 - Training Loss: 0.0681, Evaluation Loss: 2.1152, Metrics: {'accuracy': 0.6112359550561798, 'precision': 0.5703836393491566, 'recall': 0.5609356825916513, 'f1': 0.5598870347185301}\n"
     ]
    }
   ],
   "source": [
    "# Initialize a list to store results after each epoch.\n",
    "results_data = []\n",
    "\n",
    "# Move the model to the correct device.\n",
    "trainer.model.to(device)\n",
    "\n",
    "# Iterate over epochs.\n",
    "for epoch in range(n_epochs):\n",
    "    # Training phase.\n",
    "    trainer.model.train()\n",
    "    total_train_loss = 0\n",
    "    num_train_batches = 0\n",
    "    train_progress_bar = tqdm(trainer.get_train_dataloader(), desc=f\"Training (Epoch {epoch+1}/{n_epochs})\")\n",
    "    for batch in train_progress_bar:\n",
    "        # Move the batch to the correct device.\n",
    "        batch = {k: v.to(device) for k, v in batch.items()}\n",
    "        outputs = trainer.model(**batch)\n",
    "        loss = outputs.loss\n",
    "        total_train_loss += loss.item()\n",
    "        num_train_batches += 1\n",
    "        loss.backward()\n",
    "        trainer.optimizer.step()\n",
    "        trainer.optimizer.zero_grad()\n",
    "\n",
    "    avg_train_loss = total_train_loss / num_train_batches\n",
    "\n",
    "    # Evaluation phase.\n",
    "    trainer.model.eval()\n",
    "    total_eval_loss = 0\n",
    "    num_eval_batches = 0\n",
    "    all_logits = []\n",
    "    all_labels = []\n",
    "    eval_progress_bar = tqdm(trainer.get_eval_dataloader(), desc=f\"Evaluating (Epoch {epoch+1}/{n_epochs})\")\n",
    "    for batch in eval_progress_bar:\n",
    "        with torch.no_grad():\n",
    "            # Move the batch to the correct device.\n",
    "            batch = {k: v.to(device) for k, v in batch.items()}\n",
    "            outputs = trainer.model(**batch)\n",
    "            logits = outputs.logits\n",
    "            loss = outputs.loss\n",
    "            total_eval_loss += loss.item()\n",
    "            num_eval_batches += 1\n",
    "            all_logits.append(logits.cpu().numpy())\n",
    "            all_labels.append(batch['labels'].cpu().numpy())\n",
    "\n",
    "    avg_eval_loss = total_eval_loss / num_eval_batches\n",
    "\n",
    "    # Safely handle the concatenation of logits and labels.\n",
    "    all_logits = np.vstack(all_logits)\n",
    "    all_labels = np.concatenate(all_labels)\n",
    "\n",
    "    # Compute metrics.\n",
    "    eval_pred = (all_logits, all_labels)\n",
    "    metrics = compute_metrics(eval_pred)\n",
    "\n",
    "    # Print metrics.\n",
    "    print(f\"Epoch {epoch+1}/{n_epochs} - Training Loss: {avg_train_loss:.4f}, Evaluation Loss: {avg_eval_loss:.4f}, Metrics: {metrics}\")\n",
    "\n",
    "    # Store results.\n",
    "    epoch_results = {\n",
    "        'epoch': epoch + 1,\n",
    "        'train_loss': avg_train_loss,\n",
    "        'eval_loss': avg_eval_loss,\n",
    "    }\n",
    "    epoch_results.update(metrics)\n",
    "    results_data.append(epoch_results)\n",
    "\n",
    "# Convert the results list of dictionaries to a DataFrame.\n",
    "results_df = pd.DataFrame(results_data)"
   ]
  },
  {
   "cell_type": "code",
   "execution_count": 30,
   "metadata": {},
   "outputs": [],
   "source": [
    "trainer.save_model(out_dir)"
   ]
  },
  {
   "cell_type": "code",
   "execution_count": 14,
   "metadata": {},
   "outputs": [
    {
     "data": {
      "application/vnd.jupyter.widget-view+json": {
       "model_id": "eb30b4bac7ca4c64bca5d771ef796c7c",
       "version_major": 2,
       "version_minor": 0
      },
      "text/plain": [
       "  0%|          | 0/56 [00:00<?, ?it/s]"
      ]
     },
     "metadata": {},
     "output_type": "display_data"
    },
    {
     "name": "stdout",
     "output_type": "stream",
     "text": [
      "{'eval_loss': 2.1211254596710205, 'eval_accuracy': 0.6112359550561798, 'eval_precision': 0.5703836393491566, 'eval_recall': 0.5609356825916513, 'eval_f1': 0.5598870347185301, 'eval_runtime': 16.4845, 'eval_samples_per_second': 26.995, 'eval_steps_per_second': 3.397}\n"
     ]
    }
   ],
   "source": [
    "# Evaluate the model\n",
    "results = trainer.evaluate()\n",
    "trainer.save_metrics('all',results)\n",
    "print(results)"
   ]
  },
  {
   "cell_type": "code",
   "execution_count": 15,
   "metadata": {},
   "outputs": [
    {
     "data": {
      "text/html": [
       "<div>\n",
       "<style scoped>\n",
       "    .dataframe tbody tr th:only-of-type {\n",
       "        vertical-align: middle;\n",
       "    }\n",
       "\n",
       "    .dataframe tbody tr th {\n",
       "        vertical-align: top;\n",
       "    }\n",
       "\n",
       "    .dataframe thead th {\n",
       "        text-align: right;\n",
       "    }\n",
       "</style>\n",
       "<table border=\"1\" class=\"dataframe\">\n",
       "  <thead>\n",
       "    <tr style=\"text-align: right;\">\n",
       "      <th></th>\n",
       "      <th>epoch</th>\n",
       "      <th>train_loss</th>\n",
       "      <th>eval_loss</th>\n",
       "      <th>accuracy</th>\n",
       "      <th>precision</th>\n",
       "      <th>recall</th>\n",
       "      <th>f1</th>\n",
       "    </tr>\n",
       "  </thead>\n",
       "  <tbody>\n",
       "    <tr>\n",
       "      <th>0</th>\n",
       "      <td>1</td>\n",
       "      <td>0.659115</td>\n",
       "      <td>0.668892</td>\n",
       "      <td>0.622472</td>\n",
       "      <td>0.527071</td>\n",
       "      <td>0.501788</td>\n",
       "      <td>0.399923</td>\n",
       "    </tr>\n",
       "    <tr>\n",
       "      <th>1</th>\n",
       "      <td>2</td>\n",
       "      <td>0.610603</td>\n",
       "      <td>0.676195</td>\n",
       "      <td>0.633708</td>\n",
       "      <td>0.591194</td>\n",
       "      <td>0.546644</td>\n",
       "      <td>0.520807</td>\n",
       "    </tr>\n",
       "    <tr>\n",
       "      <th>2</th>\n",
       "      <td>3</td>\n",
       "      <td>0.479790</td>\n",
       "      <td>0.747316</td>\n",
       "      <td>0.600000</td>\n",
       "      <td>0.539326</td>\n",
       "      <td>0.526838</td>\n",
       "      <td>0.511965</td>\n",
       "    </tr>\n",
       "    <tr>\n",
       "      <th>3</th>\n",
       "      <td>4</td>\n",
       "      <td>0.349578</td>\n",
       "      <td>1.004814</td>\n",
       "      <td>0.620225</td>\n",
       "      <td>0.558223</td>\n",
       "      <td>0.523898</td>\n",
       "      <td>0.481792</td>\n",
       "    </tr>\n",
       "    <tr>\n",
       "      <th>4</th>\n",
       "      <td>5</td>\n",
       "      <td>0.215970</td>\n",
       "      <td>1.153274</td>\n",
       "      <td>0.620225</td>\n",
       "      <td>0.548996</td>\n",
       "      <td>0.513139</td>\n",
       "      <td>0.449132</td>\n",
       "    </tr>\n",
       "    <tr>\n",
       "      <th>5</th>\n",
       "      <td>6</td>\n",
       "      <td>0.188139</td>\n",
       "      <td>1.346215</td>\n",
       "      <td>0.615730</td>\n",
       "      <td>0.562885</td>\n",
       "      <td>0.541819</td>\n",
       "      <td>0.527832</td>\n",
       "    </tr>\n",
       "    <tr>\n",
       "      <th>6</th>\n",
       "      <td>7</td>\n",
       "      <td>0.150893</td>\n",
       "      <td>1.267138</td>\n",
       "      <td>0.584270</td>\n",
       "      <td>0.538188</td>\n",
       "      <td>0.533376</td>\n",
       "      <td>0.530978</td>\n",
       "    </tr>\n",
       "    <tr>\n",
       "      <th>7</th>\n",
       "      <td>8</td>\n",
       "      <td>0.118340</td>\n",
       "      <td>1.931292</td>\n",
       "      <td>0.561798</td>\n",
       "      <td>0.530112</td>\n",
       "      <td>0.529735</td>\n",
       "      <td>0.529851</td>\n",
       "    </tr>\n",
       "    <tr>\n",
       "      <th>8</th>\n",
       "      <td>9</td>\n",
       "      <td>0.085861</td>\n",
       "      <td>1.450270</td>\n",
       "      <td>0.575281</td>\n",
       "      <td>0.521433</td>\n",
       "      <td>0.517813</td>\n",
       "      <td>0.512223</td>\n",
       "    </tr>\n",
       "    <tr>\n",
       "      <th>9</th>\n",
       "      <td>10</td>\n",
       "      <td>0.099300</td>\n",
       "      <td>1.384246</td>\n",
       "      <td>0.582022</td>\n",
       "      <td>0.554291</td>\n",
       "      <td>0.554291</td>\n",
       "      <td>0.554291</td>\n",
       "    </tr>\n",
       "    <tr>\n",
       "      <th>10</th>\n",
       "      <td>11</td>\n",
       "      <td>0.066312</td>\n",
       "      <td>1.792303</td>\n",
       "      <td>0.602247</td>\n",
       "      <td>0.564132</td>\n",
       "      <td>0.558523</td>\n",
       "      <td>0.558554</td>\n",
       "    </tr>\n",
       "    <tr>\n",
       "      <th>11</th>\n",
       "      <td>12</td>\n",
       "      <td>0.046560</td>\n",
       "      <td>2.305170</td>\n",
       "      <td>0.591011</td>\n",
       "      <td>0.554138</td>\n",
       "      <td>0.550726</td>\n",
       "      <td>0.550894</td>\n",
       "    </tr>\n",
       "    <tr>\n",
       "      <th>12</th>\n",
       "      <td>13</td>\n",
       "      <td>0.044649</td>\n",
       "      <td>2.483517</td>\n",
       "      <td>0.582022</td>\n",
       "      <td>0.549606</td>\n",
       "      <td>0.548313</td>\n",
       "      <td>0.548652</td>\n",
       "    </tr>\n",
       "    <tr>\n",
       "      <th>13</th>\n",
       "      <td>14</td>\n",
       "      <td>0.048353</td>\n",
       "      <td>2.563228</td>\n",
       "      <td>0.564045</td>\n",
       "      <td>0.534091</td>\n",
       "      <td>0.533925</td>\n",
       "      <td>0.533996</td>\n",
       "    </tr>\n",
       "    <tr>\n",
       "      <th>14</th>\n",
       "      <td>15</td>\n",
       "      <td>0.100365</td>\n",
       "      <td>2.217442</td>\n",
       "      <td>0.577528</td>\n",
       "      <td>0.548539</td>\n",
       "      <td>0.548303</td>\n",
       "      <td>0.548409</td>\n",
       "    </tr>\n",
       "    <tr>\n",
       "      <th>15</th>\n",
       "      <td>16</td>\n",
       "      <td>0.092635</td>\n",
       "      <td>1.928882</td>\n",
       "      <td>0.613483</td>\n",
       "      <td>0.573491</td>\n",
       "      <td>0.563930</td>\n",
       "      <td>0.563188</td>\n",
       "    </tr>\n",
       "    <tr>\n",
       "      <th>16</th>\n",
       "      <td>17</td>\n",
       "      <td>0.072014</td>\n",
       "      <td>2.098289</td>\n",
       "      <td>0.584270</td>\n",
       "      <td>0.548814</td>\n",
       "      <td>0.546526</td>\n",
       "      <td>0.546771</td>\n",
       "    </tr>\n",
       "    <tr>\n",
       "      <th>17</th>\n",
       "      <td>18</td>\n",
       "      <td>0.062654</td>\n",
       "      <td>2.204809</td>\n",
       "      <td>0.543820</td>\n",
       "      <td>0.549235</td>\n",
       "      <td>0.552406</td>\n",
       "      <td>0.538893</td>\n",
       "    </tr>\n",
       "    <tr>\n",
       "      <th>18</th>\n",
       "      <td>19</td>\n",
       "      <td>0.091148</td>\n",
       "      <td>2.173035</td>\n",
       "      <td>0.555056</td>\n",
       "      <td>0.555337</td>\n",
       "      <td>0.559008</td>\n",
       "      <td>0.548154</td>\n",
       "    </tr>\n",
       "    <tr>\n",
       "      <th>19</th>\n",
       "      <td>20</td>\n",
       "      <td>0.068066</td>\n",
       "      <td>2.115204</td>\n",
       "      <td>0.611236</td>\n",
       "      <td>0.570384</td>\n",
       "      <td>0.560936</td>\n",
       "      <td>0.559887</td>\n",
       "    </tr>\n",
       "  </tbody>\n",
       "</table>\n",
       "</div>"
      ],
      "text/plain": [
       "    epoch  train_loss  eval_loss  accuracy  precision    recall        f1\n",
       "0       1    0.659115   0.668892  0.622472   0.527071  0.501788  0.399923\n",
       "1       2    0.610603   0.676195  0.633708   0.591194  0.546644  0.520807\n",
       "2       3    0.479790   0.747316  0.600000   0.539326  0.526838  0.511965\n",
       "3       4    0.349578   1.004814  0.620225   0.558223  0.523898  0.481792\n",
       "4       5    0.215970   1.153274  0.620225   0.548996  0.513139  0.449132\n",
       "5       6    0.188139   1.346215  0.615730   0.562885  0.541819  0.527832\n",
       "6       7    0.150893   1.267138  0.584270   0.538188  0.533376  0.530978\n",
       "7       8    0.118340   1.931292  0.561798   0.530112  0.529735  0.529851\n",
       "8       9    0.085861   1.450270  0.575281   0.521433  0.517813  0.512223\n",
       "9      10    0.099300   1.384246  0.582022   0.554291  0.554291  0.554291\n",
       "10     11    0.066312   1.792303  0.602247   0.564132  0.558523  0.558554\n",
       "11     12    0.046560   2.305170  0.591011   0.554138  0.550726  0.550894\n",
       "12     13    0.044649   2.483517  0.582022   0.549606  0.548313  0.548652\n",
       "13     14    0.048353   2.563228  0.564045   0.534091  0.533925  0.533996\n",
       "14     15    0.100365   2.217442  0.577528   0.548539  0.548303  0.548409\n",
       "15     16    0.092635   1.928882  0.613483   0.573491  0.563930  0.563188\n",
       "16     17    0.072014   2.098289  0.584270   0.548814  0.546526  0.546771\n",
       "17     18    0.062654   2.204809  0.543820   0.549235  0.552406  0.538893\n",
       "18     19    0.091148   2.173035  0.555056   0.555337  0.559008  0.548154\n",
       "19     20    0.068066   2.115204  0.611236   0.570384  0.560936  0.559887"
      ]
     },
     "execution_count": 15,
     "metadata": {},
     "output_type": "execute_result"
    }
   ],
   "source": [
    "results_df"
   ]
  },
  {
   "cell_type": "code",
   "execution_count": 17,
   "metadata": {},
   "outputs": [
    {
     "data": {
      "image/png": "[encoded data removed]",
      "text/plain": [
       "<Figure size 1000x600 with 1 Axes>"
      ]
     },
     "metadata": {},
     "output_type": "display_data"
    }
   ],
   "source": [
    "# Plot the results of the model evaluation\n",
    "import matplotlib.pyplot as plt\n",
    "\n",
    "# Plotting the evaluation metrics\n",
    "plt.figure(figsize=(10, 6))\n",
    "plt.plot(results_df['epoch'], results_df['accuracy'], label='Accuracy')\n",
    "plt.plot(results_df['epoch'], results_df['precision'], label='Precision')\n",
    "plt.plot(results_df['epoch'], results_df['recall'], label='Recall')\n",
    "plt.plot(results_df['epoch'], results_df['f1'], label='F1 Score')\n",
    "plt.xlabel('Epoch')\n",
    "plt.ylabel('Metric Value')\n",
    "plt.title('Evaluation Metrics over Epochs')\n",
    "plt.legend()\n",
    "plt.grid(True)\n",
    "plt.show()\n"
   ]
  },
  {
   "cell_type": "code",
   "execution_count": 18,
   "metadata": {},
   "outputs": [
    {
     "data": {
      "image/png": "[encoded data removed]",
      "text/plain": [
       "<Figure size 1000x600 with 1 Axes>"
      ]
     },
     "metadata": {},
     "output_type": "display_data"
    }
   ],
   "source": [
    "# Plotting the loss metrics\n",
    "\n",
    "plt.figure(figsize=(10, 6))\n",
    "plt.plot(results_df['epoch'], results_df['train_loss'], label='Train Loss')\n",
    "plt.plot(results_df['epoch'], results_df['eval_loss'], label='Eval Loss')\n",
    "plt.xlabel('Epoch')\n",
    "plt.ylabel('Loss Value')\n",
    "plt.title('Loss Metrics over Epochs')\n",
    "plt.legend()\n",
    "plt.grid(True)\n",
    "plt.show()"
   ]
  },
  {
   "cell_type": "markdown",
   "metadata": {},
   "source": [
    "# Upload the model to HuggingFace"
   ]
  },
  {
   "cell_type": "code",
   "execution_count": 25,
   "metadata": {},
   "outputs": [
    {
     "data": {
      "application/vnd.jupyter.widget-view+json": {
       "model_id": "3cd5d137b25d4184b8e6037bdde62c5e",
       "version_major": 2,
       "version_minor": 0
      },
      "text/plain": [
       "VBox(children=(HTML(value='<center> <img\\nsrc=https://huggingface.co/front/assets/huggingface_logo-noborder.sv…"
      ]
     },
     "metadata": {},
     "output_type": "display_data"
    }
   ],
   "source": [
    "# Upload the model to huggingface\n",
    "from huggingface_hub import notebook_login\n",
    "notebook_login()\n",
    "\n"
   ]
  },
  {
   "cell_type": "code",
   "execution_count": 45,
   "metadata": {},
   "outputs": [
    {
     "data": {
      "text/plain": [
       "CommitInfo(commit_url='https://huggingface.co/bllin001/bert-contextual/commit/386b31c0a7c068b3f742b0ab635c57edcfb2301b', commit_message='bert-contextual', commit_description='', oid='386b31c0a7c068b3f742b0ab635c57edcfb2301b', pr_url=None, pr_revision=None, pr_num=None)"
      ]
     },
     "execution_count": 45,
     "metadata": {},
     "output_type": "execute_result"
    }
   ],
   "source": [
    "trainer.push_to_hub(\"bert-contextual\")"
   ]
  },
  {
   "cell_type": "code",
   "execution_count": 46,
   "metadata": {},
   "outputs": [
    {
     "data": {
      "application/vnd.jupyter.widget-view+json": {
       "model_id": "2d562db07a95441aa8d7fa37c8f3262f",
       "version_major": 2,
       "version_minor": 0
      },
      "text/plain": [
       "README.md:   0%|          | 0.00/1.32k [00:00<?, ?B/s]"
      ]
     },
     "metadata": {},
     "output_type": "display_data"
    },
    {
     "data": {
      "text/plain": [
       "CommitInfo(commit_url='https://huggingface.co/bllin001/bert-contextual/commit/7669933acdc650c85d85922e9006a12f8c768170', commit_message='Upload tokenizer', commit_description='', oid='7669933acdc650c85d85922e9006a12f8c768170', pr_url=None, pr_revision=None, pr_num=None)"
      ]
     },
     "execution_count": 46,
     "metadata": {},
     "output_type": "execute_result"
    }
   ],
   "source": [
    "tokenizer.push_to_hub(\"bert-contextual\")"
   ]
  },
  {
   "cell_type": "code",
   "execution_count": 49,
   "metadata": {},
   "outputs": [
    {
     "data": {
      "application/vnd.jupyter.widget-view+json": {
       "model_id": "bc07de066ba740d5b109404f7ee9b99e",
       "version_major": 2,
       "version_minor": 0
      },
      "text/plain": [
       "config.json:   0%|          | 0.00/831 [00:00<?, ?B/s]"
      ]
     },
     "metadata": {},
     "output_type": "display_data"
    },
    {
     "data": {
      "application/vnd.jupyter.widget-view+json": {
       "model_id": "67cdcfcb5f204f608133a9206c024d4f",
       "version_major": 2,
       "version_minor": 0
      },
      "text/plain": [
       "model.safetensors:   0%|          | 0.00/438M [00:00<?, ?B/s]"
      ]
     },
     "metadata": {},
     "output_type": "display_data"
    }
   ],
   "source": [
    "from transformers import AutoModelForSequenceClassification\n",
    "\n",
    "model_name = \"bllin001/bert-contextual\"\n",
    "model = AutoModelForSequenceClassification.from_pretrained(model_name)"
   ]
  },
  {
   "cell_type": "code",
   "execution_count": 50,
   "metadata": {},
   "outputs": [
    {
     "data": {
      "application/vnd.jupyter.widget-view+json": {
       "model_id": "e5f441c3d85c43b2a0882aa842c19978",
       "version_major": 2,
       "version_minor": 0
      },
      "text/plain": [
       "tokenizer_config.json:   0%|          | 0.00/1.30k [00:00<?, ?B/s]"
      ]
     },
     "metadata": {},
     "output_type": "display_data"
    },
    {
     "data": {
      "application/vnd.jupyter.widget-view+json": {
       "model_id": "81e7e13b10244665ae05ec3320eaf35f",
       "version_major": 2,
       "version_minor": 0
      },
      "text/plain": [
       "vocab.txt:   0%|          | 0.00/232k [00:00<?, ?B/s]"
      ]
     },
     "metadata": {},
     "output_type": "display_data"
    },
    {
     "data": {
      "application/vnd.jupyter.widget-view+json": {
       "model_id": "d0092a9a46d84a2a867c37159ece2919",
       "version_major": 2,
       "version_minor": 0
      },
      "text/plain": [
       "tokenizer.json:   0%|          | 0.00/712k [00:00<?, ?B/s]"
      ]
     },
     "metadata": {},
     "output_type": "display_data"
    },
    {
     "data": {
      "application/vnd.jupyter.widget-view+json": {
       "model_id": "945568357df1474f9340536856ef804b",
       "version_major": 2,
       "version_minor": 0
      },
      "text/plain": [
       "special_tokens_map.json:   0%|          | 0.00/125 [00:00<?, ?B/s]"
      ]
     },
     "metadata": {},
     "output_type": "display_data"
    }
   ],
   "source": [
    "from transformers import pipeline\n",
    "\n",
    "classifier = pipeline(\"text-classification\", model=model, tokenizer=model_name)"
   ]
  },
  {
   "cell_type": "code",
   "execution_count": 51,
   "metadata": {},
   "outputs": [
    {
     "data": {
      "text/plain": [
       "[{'label': '1', 'score': 0.6637846827507019}]"
      ]
     },
     "execution_count": 51,
     "metadata": {},
     "output_type": "execute_result"
    }
   ],
   "source": [
    "title = \"Pope Francis visits Venice, says his work isn't easy\"\n",
    "classifier(title)"
   ]
  },
  {
   "cell_type": "code",
   "execution_count": 53,
   "metadata": {},
   "outputs": [
    {
     "data": {
      "text/plain": [
       "CommitInfo(commit_url='https://huggingface.co/bllin001/bert-contextual/commit/56f21b47647e02e023926b9de63ff5c2801a8874', commit_message='Upload BertForSequenceClassification', commit_description='', oid='56f21b47647e02e023926b9de63ff5c2801a8874', pr_url=None, pr_revision=None, pr_num=None)"
      ]
     },
     "execution_count": 53,
     "metadata": {},
     "output_type": "execute_result"
    }
   ],
   "source": [
    "model.config.label2id = {\"not contextual\": 0, \"contextual\": 1}\n",
    "model.config.id2label = {0: \"not contextual\", 1: \"contextual\"}\n",
    "model.push_to_hub(\"bert-contextual\")"
   ]
  },
  {
   "cell_type": "code",
   "execution_count": 54,
   "metadata": {},
   "outputs": [
    {
     "data": {
      "application/vnd.jupyter.widget-view+json": {
       "model_id": "806cb8d7712c4a0abf5ee66200452120",
       "version_major": 2,
       "version_minor": 0
      },
      "text/plain": [
       "config.json:   0%|          | 0.00/870 [00:00<?, ?B/s]"
      ]
     },
     "metadata": {},
     "output_type": "display_data"
    },
    {
     "data": {
      "text/plain": [
       "[{'label': 'contextual', 'score': 0.6637846827507019}]"
      ]
     },
     "execution_count": 54,
     "metadata": {},
     "output_type": "execute_result"
    }
   ],
   "source": [
    "classifier = pipeline(\"text-classification\", model=model_name)\n",
    "classifier(title)\n"
   ]
  }
 ],
 "metadata": {
  "kernelspec": {
   "display_name": "cs833",
   "language": "python",
   "name": "python3"
  },
  "language_info": {
   "codemirror_mode": {
    "name": "ipython",
    "version": 3
   },
   "file_extension": ".py",
   "mimetype": "text/x-python",
   "name": "python",
   "nbconvert_exporter": "python",
   "pygments_lexer": "ipython3",
   "version": "3.10.14"
  }
 },
 "nbformat": 4,
 "nbformat_minor": 2
}
