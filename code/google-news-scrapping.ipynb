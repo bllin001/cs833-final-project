{
 "cells": [
  {
   "cell_type": "code",
   "execution_count": 1,
   "metadata": {},
   "outputs": [],
   "source": [
    "import pandas as pd\n",
    "import json\n",
    "from gnews import GNews"
   ]
  },
  {
   "cell_type": "code",
   "execution_count": 12,
   "metadata": {},
   "outputs": [
    {
     "name": "stdout",
     "output_type": "stream",
     "text": [
      "Requirement already satisfied: lxml_html_clean in /Users/brianllinas/miniforge3/envs/cs833/lib/python3.10/site-packages (0.1.1)\n",
      "Requirement already satisfied: lxml in /Users/brianllinas/miniforge3/envs/cs833/lib/python3.10/site-packages (from lxml_html_clean) (5.2.1)\n",
      "Note: you may need to restart the kernel to use updated packages.\n",
      "\n",
      "Usage:   \n",
      "  /Users/brianllinas/miniforge3/envs/cs833/bin/python -m pip install [options] <requirement specifier> [package-index-options] ...\n",
      "  /Users/brianllinas/miniforge3/envs/cs833/bin/python -m pip install [options] -r <requirements file> [package-index-options] ...\n",
      "  /Users/brianllinas/miniforge3/envs/cs833/bin/python -m pip install [options] [-e] <vcs project url> ...\n",
      "  /Users/brianllinas/miniforge3/envs/cs833/bin/python -m pip install [options] [-e] <local project path> ...\n",
      "  /Users/brianllinas/miniforge3/envs/cs833/bin/python -m pip install [options] <archive url/path> ...\n",
      "\n",
      "no such option: -u\n",
      "Note: you may need to restart the kernel to use updated packages.\n"
     ]
    }
   ],
   "source": [
    "# If you have an error using get_full_article() function, you can use the following code to install the required packages\n",
    "\n",
    "# %pip install lxml_html_clean\n",
    "# %pip install -quit newspaper3k"
   ]
  },
  {
   "cell_type": "markdown",
   "metadata": {},
   "source": [
    "# Metadata"
   ]
  },
  {
   "cell_type": "code",
   "execution_count": 2,
   "metadata": {},
   "outputs": [],
   "source": [
    "google_news = GNews()\n",
    "search = 'US poised to ease restrictions on marijuana in historic shift, but it’ll remain controlled substance'\n",
    "news = google_news.get_news(search)"
   ]
  },
  {
   "cell_type": "code",
   "execution_count": 3,
   "metadata": {},
   "outputs": [
    {
     "data": {
      "text/plain": [
       "{'title': 'US DEA will reclassify marijuana, ease restrictions, AP sources say - The Associated Press',\n",
       " 'description': 'US DEA will reclassify marijuana, ease restrictions, AP sources say  The Associated Press',\n",
       " 'published date': 'Tue, 30 Apr 2024 23:51:00 GMT',\n",
       " 'url': 'https://news.google.com/rss/articles/CBMiZGh0dHBzOi8vYXBuZXdzLmNvbS9hcnRpY2xlL21hcmlqdWFuYS1iaWRlbi1kZWEtY3JpbWluYWwtanVzdGljZS1wb3QtZjgzM2E4ZGFlNmNlYjMxYTg2NThhNWQ2NTgzMmEzYjjSAQA?oc=5&hl=en-US&gl=US&ceid=US:en',\n",
       " 'publisher': {'href': 'https://apnews.com', 'title': 'The Associated Press'}}"
      ]
     },
     "execution_count": 3,
     "metadata": {},
     "output_type": "execute_result"
    }
   ],
   "source": [
    "# First new\n",
    "news[0]"
   ]
  },
  {
   "cell_type": "code",
   "execution_count": 4,
   "metadata": {},
   "outputs": [
    {
     "data": {
      "text/plain": [
       "<newspaper.article.Article at 0x15d730040>"
      ]
     },
     "execution_count": 4,
     "metadata": {},
     "output_type": "execute_result"
    }
   ],
   "source": [
    "google_news.get_full_article(news[0]['url'])"
   ]
  },
  {
   "cell_type": "markdown",
   "metadata": {},
   "source": [
    "# Content"
   ]
  },
  {
   "cell_type": "markdown",
   "metadata": {},
   "source": [
    "## Extract the most recent"
   ]
  },
  {
   "cell_type": "code",
   "execution_count": 5,
   "metadata": {},
   "outputs": [],
   "source": [
    "content = []\n",
    "article = google_news.get_full_article(news[0]['url'])\n",
    "if article is not None:\n",
    "    content.append({'title': article.title, 'author': article.authors, 'text': article.text, 'images': article.images, 'url': news[0]['url'], 'download': 1})\n",
    "else:\n",
    "    content.append({'title': None, 'author': None, 'text': None, 'images': None, 'url': news[0]['url'], 'download': 0})"
   ]
  },
  {
   "cell_type": "code",
   "execution_count": 7,
   "metadata": {},
   "outputs": [
    {
     "data": {
      "text/plain": [
       "[{'title': 'US poised to ease restrictions on marijuana in historic shift, but it’ll remain controlled substance',\n",
       "  'author': ['Zeke Is Ap S Chief White House Correspondent',\n",
       "   'Goodman Is A Miami-Based Investigative Reporter Who Writes About The Intersection Of Crime',\n",
       "   'Corruption',\n",
       "   'Drug Trafficking',\n",
       "   'Politics In Latin America. He Previously Spent Two Decades Reporting South America.',\n",
       "   'Mustian Is An Associated Press Investigative Reporter For Breaking News.',\n",
       "   'Whitehurst Is A National Criminal Justice Reporter For The Associated Press',\n",
       "   'Based In Washington',\n",
       "   'D.C. She Covers The Justice Department',\n",
       "   'Public Safety'],\n",
       "  'text': 'WASHINGTON (AP) — The U.S. Drug Enforcement Administration will move to reclassify marijuana as a less dangerous drug, The Associated Press has learned, a historic shift to generations of American drug policy that could have wide ripple effects across the country.\\n\\nThe proposal, which still must be reviewed by the White House Office of Management and Budget, would recognize the medical uses of cannabis and acknowledge it has less potential for abuse than some of the nation’s most dangerous drugs. However, it would not legalize marijuana outright for recreational use.\\n\\nThe agency’s move, confirmed to the AP on Tuesday by five people familiar with the matter who spoke on the condition of anonymity to discuss the sensitive regulatory review, clears the last significant regulatory hurdle before the agency’s biggest policy change in more than 50 years can take effect.\\n\\nOnce OMB signs off, the DEA will take public comment on the plan to move marijuana from its current classification as a Schedule I drug, alongside heroin and LSD. It moves pot to Schedule III, alongside ketamine and some anabolic steroids, following a recommendation from the federal Health and Human Services Department. After the public comment period and a review by an administrative judge, the agency would eventually publish the final rule.\\n\\n“Today, the Attorney General circulated a proposal to reclassify marijuana from Schedule I to Schedule III,” Justice Department director of public affairs Xochitl Hinojosa said in a statement. The DEA is a component of the Department of Justice. “Once published by the Federal Register, it will initiate a formal rulemaking process as prescribed by Congress in the Controlled Substances Act.”\\n\\nAttorney General Merrick Garland’s signature throws the full weight of the Justice Department behind the move and appears to signal its importance to the Biden administration.\\n\\nIt comes after President Joe Biden called for a review of federal marijuana law in October 2022 and moved to pardon thousands of Americans convicted federally of simple possession of the drug. He has also called on governors and local leaders to take similar steps to erase marijuana convictions.\\n\\n“Criminal records for marijuana use and possession have imposed needless barriers to employment, housing, and educational opportunities,” Biden said in December. “Too many lives have been upended because of our failed approach to marijuana. It’s time that we right these wrongs.”\\n\\nThe election year announcement could help Biden, a Democrat, boost flagging support, particularly among younger voters.\\n\\nBiden and a growing number of lawmakers from both major political parties have been pushing for the DEA decision as marijuana has become increasingly decriminalized and accepted, particularly by younger people. A Gallup poll last fall found 70% of adults support legalization, the highest level yet recorded by the polling firm and more than double the roughly 30% who backed it in 2000.\\n\\nThe DEA didn’t respond to repeated requests for comment.\\n\\nSchedule III drugs are still controlled substances and subject to rules and regulations, and people who traffic in them without permission could still face federal criminal prosecution.\\n\\nSome critics argue the DEA shouldn’t change course on marijuana, saying rescheduling isn’t necessary and could lead to harmful side effects.\\n\\nJack Riley, a former deputy administrator of the DEA, said he had concerns about the proposed change because he thinks marijuana remains a possible “gateway drug,” one that may lead to the use of other drugs.\\n\\n“But in terms of us getting clear to use our resources to combat other major drugs, that’s a positive,” Riley said, noting that fentanyl alone accounts for more than 100,000 deaths in the U.S. a year.\\n\\nOn the other end of the spectrum, others argue marijuana should be treated the way alcohol is.\\n\\n“While this rescheduling announcement is a historic step forward, I remain strongly committed to continuing to work on legislation like the SAFER Banking Act as well as the Cannabis Administration and Opportunity Act, which federally deschedules cannabis by removing it from the Controlled Substances Act,” Senate Majority Leader Sen. Chuck Schumer of New York said in a statement. “Congress must do everything we can to end the federal prohibition on cannabis and address longstanding harms caused by the War on Drugs.”\\n\\nFederal drug policy has lagged behind many states in recent years, with 38 having already legalized medical marijuana and 24 legalizing its recreational use.\\n\\nThat’s helped fuel fast growth in the marijuana industry, with an estimated worth of nearly $30 billion. Easing federal regulations could reduce the tax burden that can be 70% or more for businesses, according to industry groups. It could also make it easier to research marijuana, since it’s very difficult to conduct authorized clinical studies on Schedule I substances.\\n\\nThe immediate effect of rescheduling on the nation’s criminal justice system would likely be more muted, since federal prosecutions for simple possession have been fairly rare in recent years.\\n\\nBut loosening restrictions could carry a host of unintended consequences in the drug war and beyond.\\n\\nCritics point out that as a Schedule III drug, marijuana would remain regulated by the DEA. That means the roughly 15,000 cannabis dispensaries in the U.S. would have to register with the DEA like regular pharmacies and fulfill strict reporting requirements, something that they are loath to do and that the DEA is ill equipped to handle.\\n\\nThen there’s the United States’ international treaty obligations, chief among them the 1961 Single Convention on Narcotic Drugs, which requires the criminalization of cannabis. In 2016, during the Obama administration, the DEA cited the U.S.’ international obligations and the findings of a federal court of appeals in Washington in denying a similar request to reschedule marijuana.\\n\\n___\\n\\nGoodman reported from Miami, Mustian from New Orleans. AP writer Colleen Long contributed.',\n",
       "  'images': {'https://assets.apnews.com/fa/ba/9258a7114f5ba5c7202aaa1bdd66/aplogo.svg',\n",
       "   'https://dims.apnews.com/dims4/default/0e04a54/2147483647/strip/true/crop/6034x4019+0+2/resize/599x399!/quality/90/?url=https%3A%2F%2Fassets.apnews.com%2F6e%2F5f%2F88ac1f073af06a8a11387ba1d4b5%2F90b56a977556477bae55f50b248643ee',\n",
       "   'https://dims.apnews.com/dims4/default/18013b3/2147483647/strip/true/crop/6034x3394+0+314/resize/1440x810!/quality/90/?url=https%3A%2F%2Fassets.apnews.com%2F0a%2Fb7%2Fbad4beae38a47012af0b1da631b8%2F46049ccdabb94e389d9bca899f4e54b5',\n",
       "   'https://dims.apnews.com/dims4/default/2afd057/2147483647/strip/true/crop/800x800+0+0/resize/100x100!/quality/90/?url=https%3A%2F%2Fassets.apnews.com%2Fbe%2F7b%2F167fa2d8458ba0671eb95f04d13b%2Fgoodman-joshua.jpg',\n",
       "   'https://dims.apnews.com/dims4/default/4e456fd/2147483647/strip/true/crop/5225x5225+883+0/resize/100x100!/quality/90/?url=https%3A%2F%2Fassets.apnews.com%2F58%2F39%2F1d6c84464bdea65265474bb6045f%2Flindsay-whitehurst-high-res-04.JPG',\n",
       "   'https://dims.apnews.com/dims4/default/8650001/2147483647/strip/true/crop/992x617+0+0/resize/225x140!/quality/90/?url=https%3A%2F%2Fassets.apnews.com%2Ffc%2F24%2F7ff11448446fb8500bc984551325%2Faplogo-with-tagline.png',\n",
       "   'https://dims.apnews.com/dims4/default/91694ab/2147483647/strip/true/crop/6000x3997+0+2/resize/599x399!/quality/90/?url=https%3A%2F%2Fassets.apnews.com%2Fe1%2F39%2F620c1e7d9cf86867a3c6ee349bfe%2F63b123e91c9047349b6065d2a447957a',\n",
       "   'https://dims.apnews.com/dims4/default/927d1e5/2147483647/strip/true/crop/6034x4023+0+0/resize/599x399!/quality/90/?url=https%3A%2F%2Fassets.apnews.com%2F0a%2Fb7%2Fbad4beae38a47012af0b1da631b8%2F46049ccdabb94e389d9bca899f4e54b5',\n",
       "   'https://dims.apnews.com/dims4/default/94c503b/2147483647/strip/true/crop/640x236+0+0/resize/320x118!/quality/90/?url=https%3A%2F%2Fassets.apnews.com%2Fc3%2F4c%2F65482a7b452db66043542c093eaf%2Fpromo-2x.png',\n",
       "   'https://dims.apnews.com/dims4/default/a537d37/2147483647/strip/true/crop/4107x2736+0+1/resize/599x399!/quality/90/?url=https%3A%2F%2Fassets.apnews.com%2F2f%2F57%2F2cf7329d4c4d6ca895fcd39296bb%2F3b86f874b60f4145beb1a2d84ecc352e',\n",
       "   'https://dims.apnews.com/dims4/default/bab13e1/2147483647/strip/true/crop/690x690+0+0/resize/100x100!/quality/90/?url=https%3A%2F%2Fassets.apnews.com%2Fd5%2F46%2F8bdef66a4aa0bef10929ea74cd30%2Fmustian-jim.png',\n",
       "   'https://dims.apnews.com/dims4/default/dd375c0/2147483647/strip/true/crop/368x368+1+0/resize/100x100!/quality/90/?url=https%3A%2F%2Fassets.apnews.com%2F81%2F42%2F3291a5bd4c2eb8f43266035a1089%2Fmiller-zeke.jpeg',\n",
       "   'https://sb.scorecardresearch.com/p?c1=2&c2=3005041&cv=4.4.0&cj=1'},\n",
       "  'url': 'https://news.google.com/rss/articles/CBMiZGh0dHBzOi8vYXBuZXdzLmNvbS9hcnRpY2xlL21hcmlqdWFuYS1iaWRlbi1kZWEtY3JpbWluYWwtanVzdGljZS1wb3QtZjgzM2E4ZGFlNmNlYjMxYTg2NThhNWQ2NTgzMmEzYjjSAQA?oc=5&hl=en-US&gl=US&ceid=US:en',\n",
       "  'download': 1}]"
      ]
     },
     "execution_count": 7,
     "metadata": {},
     "output_type": "execute_result"
    }
   ],
   "source": [
    "content"
   ]
  },
  {
   "cell_type": "code",
   "execution_count": 9,
   "metadata": {},
   "outputs": [
    {
     "data": {
      "text/plain": [
       "'WASHINGTON (AP) — The U.S. Drug Enforcement Administration will move to reclassify marijuana as a less dangerous drug, The Associated Press has learned, a historic shift to generations of American drug policy that could have wide ripple effects across the country.\\n\\nThe proposal, which still must be reviewed by the White House Office of Management and Budget, would recognize the medical uses of cannabis and acknowledge it has less potential for abuse than some of the nation’s most dangerous drugs. However, it would not legalize marijuana outright for recreational use.\\n\\nThe agency’s move, confirmed to the AP on Tuesday by five people familiar with the matter who spoke on the condition of anonymity to discuss the sensitive regulatory review, clears the last significant regulatory hurdle before the agency’s biggest policy change in more than 50 years can take effect.\\n\\nOnce OMB signs off, the DEA will take public comment on the plan to move marijuana from its current classification as a Schedule I drug, alongside heroin and LSD. It moves pot to Schedule III, alongside ketamine and some anabolic steroids, following a recommendation from the federal Health and Human Services Department. After the public comment period and a review by an administrative judge, the agency would eventually publish the final rule.\\n\\n“Today, the Attorney General circulated a proposal to reclassify marijuana from Schedule I to Schedule III,” Justice Department director of public affairs Xochitl Hinojosa said in a statement. The DEA is a component of the Department of Justice. “Once published by the Federal Register, it will initiate a formal rulemaking process as prescribed by Congress in the Controlled Substances Act.”\\n\\nAttorney General Merrick Garland’s signature throws the full weight of the Justice Department behind the move and appears to signal its importance to the Biden administration.\\n\\nIt comes after President Joe Biden called for a review of federal marijuana law in October 2022 and moved to pardon thousands of Americans convicted federally of simple possession of the drug. He has also called on governors and local leaders to take similar steps to erase marijuana convictions.\\n\\n“Criminal records for marijuana use and possession have imposed needless barriers to employment, housing, and educational opportunities,” Biden said in December. “Too many lives have been upended because of our failed approach to marijuana. It’s time that we right these wrongs.”\\n\\nThe election year announcement could help Biden, a Democrat, boost flagging support, particularly among younger voters.\\n\\nBiden and a growing number of lawmakers from both major political parties have been pushing for the DEA decision as marijuana has become increasingly decriminalized and accepted, particularly by younger people. A Gallup poll last fall found 70% of adults support legalization, the highest level yet recorded by the polling firm and more than double the roughly 30% who backed it in 2000.\\n\\nThe DEA didn’t respond to repeated requests for comment.\\n\\nSchedule III drugs are still controlled substances and subject to rules and regulations, and people who traffic in them without permission could still face federal criminal prosecution.\\n\\nSome critics argue the DEA shouldn’t change course on marijuana, saying rescheduling isn’t necessary and could lead to harmful side effects.\\n\\nJack Riley, a former deputy administrator of the DEA, said he had concerns about the proposed change because he thinks marijuana remains a possible “gateway drug,” one that may lead to the use of other drugs.\\n\\n“But in terms of us getting clear to use our resources to combat other major drugs, that’s a positive,” Riley said, noting that fentanyl alone accounts for more than 100,000 deaths in the U.S. a year.\\n\\nOn the other end of the spectrum, others argue marijuana should be treated the way alcohol is.\\n\\n“While this rescheduling announcement is a historic step forward, I remain strongly committed to continuing to work on legislation like the SAFER Banking Act as well as the Cannabis Administration and Opportunity Act, which federally deschedules cannabis by removing it from the Controlled Substances Act,” Senate Majority Leader Sen. Chuck Schumer of New York said in a statement. “Congress must do everything we can to end the federal prohibition on cannabis and address longstanding harms caused by the War on Drugs.”\\n\\nFederal drug policy has lagged behind many states in recent years, with 38 having already legalized medical marijuana and 24 legalizing its recreational use.\\n\\nThat’s helped fuel fast growth in the marijuana industry, with an estimated worth of nearly $30 billion. Easing federal regulations could reduce the tax burden that can be 70% or more for businesses, according to industry groups. It could also make it easier to research marijuana, since it’s very difficult to conduct authorized clinical studies on Schedule I substances.\\n\\nThe immediate effect of rescheduling on the nation’s criminal justice system would likely be more muted, since federal prosecutions for simple possession have been fairly rare in recent years.\\n\\nBut loosening restrictions could carry a host of unintended consequences in the drug war and beyond.\\n\\nCritics point out that as a Schedule III drug, marijuana would remain regulated by the DEA. That means the roughly 15,000 cannabis dispensaries in the U.S. would have to register with the DEA like regular pharmacies and fulfill strict reporting requirements, something that they are loath to do and that the DEA is ill equipped to handle.\\n\\nThen there’s the United States’ international treaty obligations, chief among them the 1961 Single Convention on Narcotic Drugs, which requires the criminalization of cannabis. In 2016, during the Obama administration, the DEA cited the U.S.’ international obligations and the findings of a federal court of appeals in Washington in denying a similar request to reschedule marijuana.\\n\\n___\\n\\nGoodman reported from Miami, Mustian from New Orleans. AP writer Colleen Long contributed.'"
      ]
     },
     "execution_count": 9,
     "metadata": {},
     "output_type": "execute_result"
    }
   ],
   "source": [
    "content[0]['text']"
   ]
  },
  {
   "cell_type": "markdown",
   "metadata": {},
   "source": [
    "## Extract all search"
   ]
  },
  {
   "cell_type": "code",
   "execution_count": null,
   "metadata": {},
   "outputs": [],
   "source": [
    "# content = []\n",
    "# for new in news:\n",
    "#     article = google_news.get_full_article(new['url'])\n",
    "#     if article is not None:\n",
    "#         content.append({'title': article.title, 'author': article.authors, 'text': article.text, 'images': article.images, 'url': new['url'], 'download': 1})\n",
    "#     else:\n",
    "#         content.append({'title': None, 'author': None, 'text': None, 'images': None, 'url': new['url'], 'download': 0})\n"
   ]
  },
  {
   "cell_type": "markdown",
   "metadata": {},
   "source": [
    "# Save data"
   ]
  },
  {
   "cell_type": "code",
   "execution_count": 44,
   "metadata": {},
   "outputs": [],
   "source": [
    "# # Convert content list to DataFrame\n",
    "# df = pd.DataFrame(content)\n",
    "\n",
    "# # Save DataFrame to JSON file\n",
    "# df.to_csv('content-news.csv', index=False)\n"
   ]
  }
 ],
 "metadata": {
  "kernelspec": {
   "display_name": "base",
   "language": "python",
   "name": "python3"
  },
  "language_info": {
   "codemirror_mode": {
    "name": "ipython",
    "version": 3
   },
   "file_extension": ".py",
   "mimetype": "text/x-python",
   "name": "python",
   "nbconvert_exporter": "python",
   "pygments_lexer": "ipython3",
   "version": "3.10.14"
  }
 },
 "nbformat": 4,
 "nbformat_minor": 2
}
