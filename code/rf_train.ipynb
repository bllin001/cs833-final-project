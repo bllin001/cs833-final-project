{
 "cells": [
  {
   "cell_type": "code",
   "execution_count": 1,
   "metadata": {},
   "outputs": [],
   "source": [
    "import pandas as pd\n",
    "from sklearn.feature_extraction.text import TfidfVectorizer\n",
    "from sklearn.pipeline import make_pipeline\n",
    "from sklearn.ensemble import RandomForestClassifier\n",
    "from sklearn import svm\n",
    "from sklearn.naive_bayes import MultinomialNB\n",
    "from sklearn.metrics import classification_report"
   ]
  },
  {
   "cell_type": "markdown",
   "metadata": {},
   "source": [
    "# Data\n"
   ]
  },
  {
   "cell_type": "code",
   "execution_count": 2,
   "metadata": {},
   "outputs": [
    {
     "name": "stdout",
     "output_type": "stream",
     "text": [
      "train shape: (1780, 2)\n",
      "                               title  label\n",
      "0  Sun offers processing by the hour      0\n",
      "1        Wilkinson return 'unlikely'      1\n",
      "2    Parmalat bank barred from suing      0\n",
      "3     2D Metal Slug offers retro fun      0\n",
      "4    China 'blocks Google news site'      0\n",
      "test shape: (445, 2)\n",
      "                               title  label\n",
      "0    Kilroy launches 'Veritas' party      1\n",
      "1    Blunkett hints at election call      0\n",
      "2  Premier League planning Cole date      1\n",
      "3     Bristol City 2-1 Milton Keynes      0\n",
      "4   China keeps tight rein on credit      1\n"
     ]
    }
   ],
   "source": [
    "train = pd.read_csv('../data/train.csv')\n",
    "print(f'train shape: {train.shape}')\n",
    "print(train.head())\n",
    "test = pd.read_csv('../data/test.csv')\n",
    "print(f'test shape: {test.shape}')\n",
    "print(test.head())"
   ]
  },
  {
   "cell_type": "code",
   "execution_count": 12,
   "metadata": {},
   "outputs": [
    {
     "data": {
      "text/plain": [
       "<Axes: title={'center': 'Training label distribution'}, xlabel='label'>"
      ]
     },
     "execution_count": 12,
     "metadata": {},
     "output_type": "execute_result"
    },
    {
     "data": {
      "image/png": "[encoded data removed]",
      "text/plain": [
       "<Figure size 1000x600 with 1 Axes>"
      ]
     },
     "metadata": {},
     "output_type": "display_data"
    }
   ],
   "source": [
    "train['label'].value_counts().plot(kind='bar', title='Training label distribution', figsize=(10, 6), color='skyblue', rot=0, fontsize=12)"
   ]
  },
  {
   "cell_type": "markdown",
   "metadata": {},
   "source": [
    "# Random Forest (RF) trainning\n"
   ]
  },
  {
   "cell_type": "code",
   "execution_count": 4,
   "metadata": {},
   "outputs": [],
   "source": [
    "# Train rf classifier\n",
    "vectorizer = TfidfVectorizer()\n",
    "classifier = RandomForestClassifier()\n",
    "model = make_pipeline(vectorizer, classifier)\n",
    "model.fit(train['title'], train['label'])\n",
    "labels = model.predict(test['title'])"
   ]
  },
  {
   "cell_type": "markdown",
   "metadata": {},
   "source": [
    "### Performance\n"
   ]
  },
  {
   "cell_type": "code",
   "execution_count": 5,
   "metadata": {},
   "outputs": [
    {
     "name": "stdout",
     "output_type": "stream",
     "text": [
      "              precision    recall  f1-score   support\n",
      "\n",
      "           0       0.38      0.23      0.29       167\n",
      "           1       0.63      0.77      0.69       278\n",
      "\n",
      "    accuracy                           0.57       445\n",
      "   macro avg       0.50      0.50      0.49       445\n",
      "weighted avg       0.54      0.57      0.54       445\n",
      "\n"
     ]
    }
   ],
   "source": [
    "# Evaluate the model\n",
    "print(classification_report(test['label'], labels))"
   ]
  },
  {
   "cell_type": "code",
   "execution_count": 6,
   "metadata": {},
   "outputs": [],
   "source": [
    "import pickle\n",
    "with open('../model/rf_model.pkl', 'wb') as f:\n",
    "    pickle.dump(model, f)"
   ]
  }
 ],
 "metadata": {
  "kernelspec": {
   "display_name": "cs833",
   "language": "python",
   "name": "python3"
  },
  "language_info": {
   "codemirror_mode": {
    "name": "ipython",
    "version": 3
   },
   "file_extension": ".py",
   "mimetype": "text/x-python",
   "name": "python",
   "nbconvert_exporter": "python",
   "pygments_lexer": "ipython3",
   "version": "3.10.14"
  }
 },
 "nbformat": 4,
 "nbformat_minor": 2
}
